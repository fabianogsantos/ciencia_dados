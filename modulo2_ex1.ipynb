{
 "cells": [
  {
   "cell_type": "code",
   "execution_count": 4,
   "id": "7d41f464-1fbc-41ff-a3de-da7964eafb09",
   "metadata": {},
   "outputs": [
    {
     "name": "stdout",
     "output_type": "stream",
     "text": [
      "False\n",
      "1\n"
     ]
    }
   ],
   "source": [
    "var1 = \"Ouviram\";\n",
    "var2 = \" do Ipiranga\";\n",
    "print(var1 == var2);\n",
    "\n",
    "var3 = 15;\n",
    "var4 = 2;\n",
    "print(var3%var4);"
   ]
  },
  {
   "cell_type": "code",
   "execution_count": null,
   "id": "28fd2733-36e0-42e6-8615-adac27ca675b",
   "metadata": {},
   "outputs": [],
   "source": []
  }
 ],
 "metadata": {
  "kernelspec": {
   "display_name": "Python 3 (ipykernel)",
   "language": "python",
   "name": "python3"
  },
  "language_info": {
   "codemirror_mode": {
    "name": "ipython",
    "version": 3
   },
   "file_extension": ".py",
   "mimetype": "text/x-python",
   "name": "python",
   "nbconvert_exporter": "python",
   "pygments_lexer": "ipython3",
   "version": "3.8.10"
  }
 },
 "nbformat": 4,
 "nbformat_minor": 5
}
