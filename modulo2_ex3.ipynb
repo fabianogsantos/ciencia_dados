{
 "cells": [
  {
   "cell_type": "code",
   "execution_count": 6,
   "id": "22fb95d6-b644-42e5-acf3-4027f21c634f",
   "metadata": {},
   "outputs": [
    {
     "name": "stdout",
     "output_type": "stream",
     "text": [
      "{'cli1': ['Caneta', 'Lápis', 'Borracha'], 'cli2': ['caderno', 'régua'], 'cli3': ['apontador']}\n",
      "régua\n"
     ]
    }
   ],
   "source": [
    "dic = {\"cli1\":['Caneta','Lápis','Borracha'], \"cli2\":['caderno','régua'], \"cli3\":['apontador']};\n",
    "print(dic);\n",
    "print(dic['cli2'][1]);"
   ]
  },
  {
   "cell_type": "code",
   "execution_count": null,
   "id": "36a94624-1f1b-4dad-b69e-86bac122b7b2",
   "metadata": {},
   "outputs": [],
   "source": []
  }
 ],
 "metadata": {
  "kernelspec": {
   "display_name": "Python 3 (ipykernel)",
   "language": "python",
   "name": "python3"
  },
  "language_info": {
   "codemirror_mode": {
    "name": "ipython",
    "version": 3
   },
   "file_extension": ".py",
   "mimetype": "text/x-python",
   "name": "python",
   "nbconvert_exporter": "python",
   "pygments_lexer": "ipython3",
   "version": "3.8.10"
  }
 },
 "nbformat": 4,
 "nbformat_minor": 5
}
