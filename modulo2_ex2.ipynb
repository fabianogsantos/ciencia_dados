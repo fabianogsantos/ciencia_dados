{
 "cells": [
  {
   "cell_type": "code",
   "execution_count": 7,
   "id": "9d8cc0f9-8893-4370-a451-8edd9e8bfa50",
   "metadata": {},
   "outputs": [
    {
     "name": "stdout",
     "output_type": "stream",
     "text": [
      "7\n",
      "5\n"
     ]
    }
   ],
   "source": [
    "lista1 = [\"Brasil\",\"Argentina\",\"Chile\",\"Paraguai\",\"Brasil\",\"Chile\",\"Venezuela\"];\n",
    "print(len(lista1));\n",
    "\n",
    "conj1 = set(lista1);\n",
    "print(len(conj1));"
   ]
  },
  {
   "cell_type": "code",
   "execution_count": null,
   "id": "acdc9653-1daf-4684-9b76-19b62e97e61d",
   "metadata": {},
   "outputs": [],
   "source": []
  }
 ],
 "metadata": {
  "kernelspec": {
   "display_name": "Python 3 (ipykernel)",
   "language": "python",
   "name": "python3"
  },
  "language_info": {
   "codemirror_mode": {
    "name": "ipython",
    "version": 3
   },
   "file_extension": ".py",
   "mimetype": "text/x-python",
   "name": "python",
   "nbconvert_exporter": "python",
   "pygments_lexer": "ipython3",
   "version": "3.8.10"
  }
 },
 "nbformat": 4,
 "nbformat_minor": 5
}
